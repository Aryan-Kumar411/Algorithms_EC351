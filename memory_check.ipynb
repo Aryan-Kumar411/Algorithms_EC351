{
  "nbformat": 4,
  "nbformat_minor": 0,
  "metadata": {
    "colab": {
      "name": "memory_check.ipynb",
      "provenance": []
    },
    "kernelspec": {
      "name": "python3",
      "display_name": "Python 3"
    }
  },
  "cells": [
    {
      "cell_type": "markdown",
      "metadata": {
        "id": "R5PKE-kNUvvz",
        "colab_type": "text"
      },
      "source": [
        "Memory Check - 1"
      ]
    },
    {
      "cell_type": "code",
      "metadata": {
        "id": "waOVXDQoRuRs",
        "colab_type": "code",
        "colab": {
          "base_uri": "https://localhost:8080/",
          "height": 34
        },
        "outputId": "4242a826-55a7-43b2-cc08-96a48b8e0de1"
      },
      "source": [
        "import os,psutil\n",
        "pid=os.getpid() #process id\n",
        "ps=psutil.Process(pid)\n",
        "def main():\n",
        "    return 0;\n",
        "\n",
        "if __name__ == \"__main__\":\n",
        "    main()\n",
        "memoryUse =ps.memory_info()\n",
        "print(memoryUse)"
      ],
      "execution_count": 1,
      "outputs": [
        {
          "output_type": "stream",
          "text": [
            "pmem(rss=111337472, vms=523399168, shared=32669696, text=3883008, lib=0, data=181129216, dirty=0)\n"
          ],
          "name": "stdout"
        }
      ]
    },
    {
      "cell_type": "markdown",
      "metadata": {
        "id": "8v4jhcruU6vv",
        "colab_type": "text"
      },
      "source": [
        "Memory Check -2"
      ]
    },
    {
      "cell_type": "code",
      "metadata": {
        "id": "o2T0Q3ylU_2I",
        "colab_type": "code",
        "colab": {
          "base_uri": "https://localhost:8080/",
          "height": 34
        },
        "outputId": "d6932910-4d18-43e3-cd3f-1e90f2ffafca"
      },
      "source": [
        "import os,psutil\n",
        "pid=os.getpid() #process id\n",
        "ps=psutil.Process(pid)\n",
        "a=5 #global variable\n",
        "def main():\n",
        "    return 0;\n",
        "\n",
        "if __name__ == \"__main__\":\n",
        "    main()\n",
        "memoryUse =ps.memory_info()\n",
        "print(memoryUse)"
      ],
      "execution_count": 2,
      "outputs": [
        {
          "output_type": "stream",
          "text": [
            "pmem(rss=111501312, vms=523399168, shared=32669696, text=3883008, lib=0, data=181129216, dirty=0)\n"
          ],
          "name": "stdout"
        }
      ]
    },
    {
      "cell_type": "markdown",
      "metadata": {
        "id": "C6BnAWfMVUUB",
        "colab_type": "text"
      },
      "source": [
        "Memory Check -3"
      ]
    },
    {
      "cell_type": "code",
      "metadata": {
        "id": "ZRFPb4BpVX1C",
        "colab_type": "code",
        "colab": {
          "base_uri": "https://localhost:8080/",
          "height": 34
        },
        "outputId": "3d2d7700-beba-4932-9d19-a1e3591a3e3f"
      },
      "source": [
        "import os,psutil\n",
        "pid=os.getpid() #process id\n",
        "ps=psutil.Process(pid)\n",
        "a=5\n",
        "def main():\n",
        "  s=2\n",
        "  return 0;\n",
        "\n",
        "if __name__ == \"__main__\":\n",
        "    main()\n",
        "memoryUse =ps.memory_info()\n",
        "print(memoryUse)"
      ],
      "execution_count": 3,
      "outputs": [
        {
          "output_type": "stream",
          "text": [
            "pmem(rss=111501312, vms=523399168, shared=32669696, text=3883008, lib=0, data=181129216, dirty=0)\n"
          ],
          "name": "stdout"
        }
      ]
    }
  ]
}